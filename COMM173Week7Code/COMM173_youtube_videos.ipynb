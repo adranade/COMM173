{
 "cells": [
  {
   "cell_type": "code",
   "execution_count": 3,
   "id": "9dbf5f5a",
   "metadata": {},
   "outputs": [],
   "source": [
    "from selenium import webdriver\n",
    "import pandas as pd\n",
    "from selenium.webdriver.common.by import By\n",
    "from selenium.webdriver.support.ui import WebDriverWait\n",
    "from selenium.webdriver.support import expected_conditions as EC\n",
    "from selenium.webdriver.common.keys import Keys\n",
    "import time"
   ]
  },
  {
   "cell_type": "code",
   "execution_count": 4,
   "id": "e87d7209",
   "metadata": {},
   "outputs": [],
   "source": [
    "# Insert link for video topic to be searched (make sure to filter type with video)\n",
    "url = 'https://www.youtube.com/results?search_query=costco+rotisserie+chicken'"
   ]
  },
  {
   "cell_type": "code",
   "execution_count": 6,
   "id": "f69e2030",
   "metadata": {},
   "outputs": [
    {
     "name": "stderr",
     "output_type": "stream",
     "text": [
      "/var/folders/f_/txmdpv393xx063w86f4glcx40000gn/T/ipykernel_6558/2138775265.py:1: DeprecationWarning: executable_path has been deprecated, please pass in a Service object\n",
      "  driver = webdriver.Chrome(('/Users/adityaranade/Documents/COMM173oldlaptop/chromedriver'))\n"
     ]
    }
   ],
   "source": [
    "driver = webdriver.Chrome(('/Users/adityaranade/Documents/COMM173oldlaptop/chromedriver'))\n",
    "driver.get(url)\n",
    "\n",
    "# Need to wait for page to fully load\n",
    "#time.sleep(10)\n",
    "\n",
    "#check your browser to see if the correct page loaded"
   ]
  },
  {
   "cell_type": "code",
   "execution_count": 8,
   "id": "a2417325",
   "metadata": {},
   "outputs": [],
   "source": [
    "# Scroll to bottom of page\n",
    "\n",
    "#The function takes a single argument, \"driver\", which is an instance of the WebDriver class. \n",
    "#This argument is used to interact with the web page and execute JavaScript code.\n",
    "\n",
    "#The function uses a while loop to continuously scroll the web page until the bottom is reached. \n",
    "#The loop continues until the new scroll position is equal to the old scroll position.\n",
    "#This indicates that the page has reached the bottom.\n",
    "\n",
    "#In each iteration of the loop, the function first gets the current scroll position of the page using JavaScript code \n",
    "#executed through the WebDriver's \"execute_script()\" method. The script checks if the \n",
    "#\"window.pageYOffset\" property is defined, which gives the current vertical scroll\n",
    "#position of the page, and returns that value. If \"window.pageYOffset\" is undefined, \n",
    "#the script checks if \"document.documentElement\" or \"document.body.parentNode\" or \n",
    "#\"document.body\" has a scroll position and returns that value instead.\n",
    "\n",
    "#The function then sleeps for 5 seconds using the \"time.sleep()\" method, \n",
    "#to allow time for the page to load and the user to see the scrolling.\n",
    "\n",
    "#Next, the function uses the WebDriver's \"execute_script()\" method to scroll the page down to the bottom. \n",
    "#The script sets the \"scrollTop\" property of the \"scrollingElement\" to the \"scrollHeight\". \n",
    "#The \"scrollingElement\" can be either \"document.scrollingElement\" or \"document.body\". \n",
    "#Setting \"scrollTop\" to \"scrollHeight\" scrolls the page to the bottom.\n",
    "\n",
    "#The function then sleeps for another 5 seconds to allow time for the page to load and for the user to see the scrolling.\n",
    "\n",
    "#Finally, the function gets the new scroll position of the page using JavaScript code similar to the one used earlier, \n",
    "#and assigns it to the \"new_position\" variable.\n",
    "def scroll_to_bottom(driver):\n",
    "    old_position = 0\n",
    "    new_position = None\n",
    "    \n",
    "    while (new_position != old_position):\n",
    "        # Get old scroll position\n",
    "        old_position = driver.execute_script((\"return (window.pageYOffset !== undefined) ?\"\n",
    "                                            \" window.pageYOffset : (document.documentElement ||\"\n",
    "                                            \" document.body.parentNode || document.body);\"))\n",
    "        # Sleep and scroll\n",
    "        time.sleep(5)\n",
    "        driver.execute_script((\"var scrollingElement = (document.scrollingElement ||\"\n",
    "                              \" document.body);scrollingElement.scrollTop = \"\n",
    "                              \" scrollingElement.scrollHeight\"))\n",
    "        \n",
    "        time.sleep(5)\n",
    "        # Get new position\n",
    "        new_position = driver.execute_script((\"return (window.pageYOffset !== undefined) ?\"\n",
    "                                             \" window.pageYOffset : (document.documentElement ||\"\n",
    "                                             \" document.body.parentNode || documentBody);\"))"
   ]
  },
  {
   "cell_type": "code",
   "execution_count": 9,
   "id": "a52310e5",
   "metadata": {},
   "outputs": [],
   "source": [
    "scroll_to_bottom(driver)\n",
    "\n",
    "#this will start to scroll to the bottom of the page of the search results on its own"
   ]
  },
  {
   "cell_type": "code",
   "execution_count": 10,
   "id": "c36ffd68",
   "metadata": {},
   "outputs": [],
   "source": [
    "user_data = driver.find_elements(by=By.XPATH,value='//*[@id=\"video-title\"]')"
   ]
  },
  {
   "cell_type": "code",
   "execution_count": 11,
   "id": "28bf93d0",
   "metadata": {},
   "outputs": [
    {
     "name": "stdout",
     "output_type": "stream",
     "text": [
      "677\n"
     ]
    }
   ],
   "source": [
    "print(len(user_data))"
   ]
  },
  {
   "cell_type": "code",
   "execution_count": 12,
   "id": "eb9cb701",
   "metadata": {},
   "outputs": [
    {
     "name": "stdout",
     "output_type": "stream",
     "text": [
      "570\n"
     ]
    }
   ],
   "source": [
    "#The first line initializes an empty list called \"links\" that will store the extracted links.\n",
    "\n",
    "#The second line starts a for loop that iterates through each element in the \"user_data\" list.\n",
    "\n",
    "#The third line checks whether the current element has an \"href\" attribute, which is commonly used in HTML to indicate a hyperlink. If the \"href\" attribute is not None, meaning it exists, then the code extracts the value of the \"href\" attribute using the \"get_attribute()\" method and appends it to the \"links\" list using the \"append()\" method.\n",
    "\n",
    "#The fourth line prints the length of the \"links\" list, which is the total number of links found in the \"user_data\" list.\n",
    "\n",
    "links = []\n",
    "for i in user_data:\n",
    "    if (i.get_attribute('href') != None):\n",
    "        links.append(i.get_attribute('href'))\n",
    "\n",
    "print(len(links))"
   ]
  },
  {
   "cell_type": "code",
   "execution_count": 13,
   "id": "051fb83a",
   "metadata": {},
   "outputs": [],
   "source": [
    "df = pd.DataFrame(columns = ['link', 'title', 'description', 'category'])"
   ]
  },
  {
   "cell_type": "code",
   "execution_count": 15,
   "id": "ca153216",
   "metadata": {},
   "outputs": [],
   "source": [
    "#The first line initializes a string variable \"v_category\" to store the video category.\n",
    "v_category = \"costco_chicken\"\n",
    "\n",
    "#The second line initializes a WebDriverWait object called \"wait\" with a timeout of 50 seconds. \n",
    "#This object will be used to wait for elements to appear on the web page before interacting with them.\n",
    "\n",
    "wait = WebDriverWait(driver, 50)\n",
    "\n",
    "##The code then starts a for loop that iterates through each link in the \"links\" list.\n",
    "#For each link, the code navigates the WebDriver to that link using the \"driver.get()\" method.\n",
    "#The code then initializes 3 variables, \"v_id\", \"v_title\", and \"v_description\", to store the video ID, title, and description.\n",
    "#To extract the video title, the code uses the \"wait.until()\" method to wait for the presence of an element with the CSS selector \"h1.style-scope.ytd-watch-metadata yt-formatted-string\". \n",
    "#Once the element is present, the \"text\" property is extracted and stored in the \"v_title\" variable.\n",
    "\n",
    "#To extract the video description, the code uses the \"wait.until()\" method again to wait for the presence of an element with the CSS selector \"div#snippet yt-formatted-string\". \n",
    "#Once the element is present, the \"text\" property is extracted and stored in the \"v_description\" variable.\n",
    "   \n",
    "for x in links:\n",
    "    driver.get(x)\n",
    "    v_id = x\n",
    "    v_title = wait.until(EC.presence_of_element_located(\n",
    "                   (By.CSS_SELECTOR,\"h1.style-scope.ytd-watch-metadata yt-formatted-string\"))).text\n",
    "\n",
    "    v_description =  wait.until(EC.presence_of_element_located(\n",
    "                                (By.CSS_SELECTOR,\"div#snippet yt-formatted-string\"))).text\n",
    "\n",
    "#Finally, the video data is added to a pandas DataFrame called \"df\" using the \"df.loc[]\" method. The data is added as a new row, with the video ID, title, description, and category in separate columns.\n",
    "    df.loc[len(df)] = [v_id, v_title, v_description, v_category]"
   ]
  },
  {
   "cell_type": "code",
   "execution_count": 18,
   "id": "d7d6e71b",
   "metadata": {},
   "outputs": [],
   "source": [
    "driver.quit()"
   ]
  },
  {
   "cell_type": "code",
   "execution_count": 16,
   "id": "ecdd5a6b",
   "metadata": {},
   "outputs": [
    {
     "name": "stdout",
     "output_type": "stream",
     "text": [
      "                                                  link  \\\n",
      "0    https://www.youtube.com/watch?v=3qTZnwRbFY0&pp...   \n",
      "1    https://www.youtube.com/watch?v=L_2jL8vNiNM&pp...   \n",
      "2    https://www.youtube.com/watch?v=gXjcwnEpILg&pp...   \n",
      "3    https://www.youtube.com/watch?v=jBFMDZ5ugd4&pp...   \n",
      "4    https://www.youtube.com/watch?v=3XDcNI31T2k&pp...   \n",
      "..                                                 ...   \n",
      "565  https://www.youtube.com/watch?v=9214acpnJcs&pp...   \n",
      "566  https://www.youtube.com/watch?v=lEAewKPzZQk&pp...   \n",
      "567  https://www.youtube.com/watch?v=IZqcEk9Seew&pp...   \n",
      "568  https://www.youtube.com/watch?v=_LhVDt-qG-8&pp...   \n",
      "569  https://www.youtube.com/watch?v=IyWSnvgIs6s&pp...   \n",
      "\n",
      "                                                 title description  \\\n",
      "0    This Is Why Costco Only Charges $5 For A Rotis...               \n",
      "1    The Big Problem Costco Shoppers Are Currently ...               \n",
      "2    Don't Eat Another Costco Rotisserie Chicken Un...               \n",
      "3       Removing Meat from a Costco Rotisserie Chicken               \n",
      "4    10 Easy Costco Chicken Dinners | Recipes You C...               \n",
      "..                                                 ...         ...   \n",
      "565  Fight hunger and support local artists at Empt...               \n",
      "566  I review viewers' skirts. (...and UruMaid appe...               \n",
      "567  ALL YOU CAN EAT CRAB SEAFOOD HOT POT & BBQ BUF...               \n",
      "568  Culver's Drive Thru, Pot Roast Sandwich Meal, ...               \n",
      "569  Eating Culver's Pot Roast Sandwich & Mashed Po...               \n",
      "\n",
      "           category  \n",
      "0    costco_chicken  \n",
      "1    costco_chicken  \n",
      "2    costco_chicken  \n",
      "3    costco_chicken  \n",
      "4    costco_chicken  \n",
      "..              ...  \n",
      "565  costco_chicken  \n",
      "566  costco_chicken  \n",
      "567  costco_chicken  \n",
      "568  costco_chicken  \n",
      "569  costco_chicken  \n",
      "\n",
      "[570 rows x 4 columns]\n"
     ]
    }
   ],
   "source": [
    "print(df)"
   ]
  },
  {
   "cell_type": "code",
   "execution_count": 17,
   "id": "ff92ce04",
   "metadata": {},
   "outputs": [],
   "source": [
    "# Save the DataFrame as a CSV file\n",
    "df.to_csv('comm173_youtube.csv', index=False)"
   ]
  },
  {
   "cell_type": "code",
   "execution_count": null,
   "id": "a3586557",
   "metadata": {},
   "outputs": [],
   "source": []
  }
 ],
 "metadata": {
  "kernelspec": {
   "display_name": "Python 3 (ipykernel)",
   "language": "python",
   "name": "python3"
  },
  "language_info": {
   "codemirror_mode": {
    "name": "ipython",
    "version": 3
   },
   "file_extension": ".py",
   "mimetype": "text/x-python",
   "name": "python",
   "nbconvert_exporter": "python",
   "pygments_lexer": "ipython3",
   "version": "3.9.7"
  }
 },
 "nbformat": 4,
 "nbformat_minor": 5
}
